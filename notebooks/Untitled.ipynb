{
 "cells": [
  {
   "cell_type": "code",
   "execution_count": 1,
   "metadata": {},
   "outputs": [],
   "source": [
    "import pyproj\n",
    "import ogr\n",
    "\n",
    "import numpy as np\n",
    "\n",
    "from plio.spatial import footprint\n",
    "\n",
    "import matplotlib.pyplot as plt"
   ]
  },
  {
   "cell_type": "code",
   "execution_count": 6,
   "metadata": {},
   "outputs": [],
   "source": [
    "class Camera:\n",
    "    \n",
    "    def __init__(self):\n",
    "        # Form z, x, y\n",
    "        self.imagesize = [0, 3, 2]\n",
    "        \n",
    "    def imageToGround(self, x, y, z):\n",
    "        return x, y, z"
   ]
  },
  {
   "cell_type": "code",
   "execution_count": 8,
   "metadata": {
    "scrolled": false
   },
   "outputs": [
    {
     "name": "stdout",
     "output_type": "stream",
     "text": [
      "[(-1.0, 0.0), (1.0, 0.0), (1.0, 2.0), (-1.0, 2.0), (-1.0, 0.0)]\n",
      "[(9.998476951563912, -0.17452406437283513, 0.0), (9.998476951563912, 0.17452406437283513, 0.0), (9.992386149554825, 0.1744177490283016, 0.3489949670250097), (9.992386149554825, -0.1744177490283016, 0.3489949670250097), (9.998476951563912, -0.17452406437283513, 0.0)]\n"
     ]
    },
    {
     "data": {
      "text/plain": [
       "[<matplotlib.lines.Line2D at 0x7fc77625bcc0>]"
      ]
     },
     "execution_count": 8,
     "metadata": {},
     "output_type": "execute_result"
    },
    {
     "data": {
      "image/png": "[encoded data removed]",
      "text/plain": [
       "<Figure size 432x288 with 1 Axes>"
      ]
     },
     "metadata": {},
     "output_type": "display_data"
    },
    {
     "data": {
      "image/png": "[encoded data removed]",
      "text/plain": [
       "<Figure size 432x288 with 1 Axes>"
      ]
     },
     "metadata": {},
     "output_type": "display_data"
    },
    {
     "data": {
      "image/png": "[encoded data removed]",
      "text/plain": [
       "<Figure size 432x288 with 1 Axes>"
      ]
     },
     "metadata": {},
     "output_type": "display_data"
    }
   ],
   "source": [
    "camera = Camera()\n",
    "isize = camera.imagesize[::-1]\n",
    "\n",
    "semi_major=10\n",
    "semi_minor=10\n",
    "\n",
    "ecef = pyproj.Proj(proj='geocent', a=semi_major, b=semi_minor)\n",
    "lla = pyproj.Proj(proj='latlon', a=semi_major, b=semi_minor)\n",
    "\n",
    "lon = np.linspace(-1, 1, 2)\n",
    "lat = np.linspace(0, 2, 2)\n",
    "\n",
    "latlon_coords = [(i,lat[0]) for i in lon] + [(lon[-1], i) for i in lat[1:]] +\\\n",
    "               [(i, lat[-1]) for i in lon[::-1][1:]] + [(lon[0],i) for i in lat[::-1][1:]]\n",
    "\n",
    "print(latlon_coords)\n",
    "\n",
    "x = []\n",
    "y = []\n",
    "\n",
    "for point in latlon_coords:\n",
    "    x.append(point[0])\n",
    "    y.append(point[1])\n",
    "    \n",
    "plt.figure(2)\n",
    "plt.plot(x, y, marker = \"o\")\n",
    "\n",
    "cartisian_coords = [pyproj.transform(lla, ecef, *point, 0) for point in latlon_coords]\n",
    "print(cartisian_coords)\n",
    "\n",
    "x = []\n",
    "y = []\n",
    "\n",
    "for point in cartisian_coords:\n",
    "    x.append(point[0])\n",
    "    y.append(point[1])\n",
    "    \n",
    "plt.figure(0)\n",
    "plt.plot(x, y, marker = \"o\")\n",
    "\n",
    "# # y x z?\n",
    "# # z x y?\n",
    "latlon_coords = [pyproj.transform(ecef, lla, *point) for point in cartisian_coords]\n",
    "\n",
    "x = []\n",
    "y = []\n",
    "\n",
    "for point in latlon_coords:\n",
    "    x.append(point[0])\n",
    "    y.append(point[1])\n",
    "    \n",
    "plt.figure(1)\n",
    "plt.plot(x, y, marker = \"o\")"
   ]
  },
  {
   "cell_type": "code",
   "execution_count": null,
   "metadata": {},
   "outputs": [],
   "source": [
    "camera = Camera()\n",
    "cartisian_footprint = footprint.generate_cartisian_footprint(camera, nnodes = 5)\n",
    "\n",
    "points = cartisian_footprint.GetGeometryRef(0).GetPoints()\n",
    "print(len(points))\n",
    "\n",
    "x = []\n",
    "y = []\n",
    "\n",
    "for point in points:\n",
    "    x.append(point[0])\n",
    "    y.append(point[1])\n",
    "plt.plot(x, y, marker = \"o\")\n",
    "\n",
    "boundary = cartisian_footprint.GetGeometryRef(0).GetPoints()\n",
    "\n",
    "ring = ogr.Geometry(ogr.wkbLinearRing)\n",
    "\n",
    "for i in boundary:\n",
    "    gnd = camera.imageToGround(*i[0:2], 0)\n",
    "    lons, lats, alts = pyproj.transform(ecef, lla, gnd[0], gnd[1], gnd[2])\n",
    "    ring.AddPoint(lons, lats)\n",
    "\n",
    "poly = ogr.Geometry(ogr.wkbPolygon)\n",
    "poly.AddGeometry(ring)"
   ]
  },
  {
   "cell_type": "code",
   "execution_count": null,
   "metadata": {},
   "outputs": [],
   "source": [
    "points = poly.GetGeometryRef(0).GetPoints()\n",
    "\n",
    "x = []\n",
    "y = []\n",
    "\n",
    "for point in points:\n",
    "    x.append(point[1])\n",
    "    y.append(point[0])\n",
    "plt.plot(x, y, marker = \"o\")"
   ]
  },
  {
   "cell_type": "code",
   "execution_count": null,
   "metadata": {},
   "outputs": [],
   "source": [
    "poly2 = footprint.generate_latlon_footprint(camera)\n",
    "points = poly2.GetGeometryRef(0).GetPoints()\n",
    "\n",
    "x = []\n",
    "y = []\n",
    "\n",
    "for point in points:\n",
    "    x.append(point[0])\n",
    "    y.append(point[1])\n",
    "plt.plot(x, y, marker = \"o\")"
   ]
  },
  {
   "cell_type": "code",
   "execution_count": null,
   "metadata": {},
   "outputs": [],
   "source": []
  },
  {
   "cell_type": "code",
   "execution_count": null,
   "metadata": {},
   "outputs": [],
   "source": []
  }
 ],
 "metadata": {
  "kernelspec": {
   "display_name": "Python 3",
   "language": "python",
   "name": "python3"
  },
  "language_info": {
   "codemirror_mode": {
    "name": "ipython",
    "version": 3
   },
   "file_extension": ".py",
   "mimetype": "text/x-python",
   "name": "python",
   "nbconvert_exporter": "python",
   "pygments_lexer": "ipython3",
   "version": "3.6.3"
  }
 },
 "nbformat": 4,
 "nbformat_minor": 2
}
