{
 "cells": [
  {
   "cell_type": "code",
   "execution_count": 1,
   "metadata": {},
   "outputs": [],
   "source": [
    "import pvl\n",
    "import json\n",
    "import ctypes\n",
    "from plio.spatial import footprint\n",
    "from plio.io.io_gdal import GeoDataset\n",
    "import pyproj\n",
    "import numpy as np\n",
    "import ogr\n",
    "import math\n",
    "from ctypes.util import find_library\n",
    "\n",
    "import matplotlib.pyplot as plt\n",
    "\n",
    "from csmapi import csmapi\n",
    "import requests\n",
    "\n",
    "from unittest.mock import MagicMock\n",
    "from unittest.mock import Mock\n",
    "from unittest.mock import patch\n",
    "\n",
    "lib = ctypes.CDLL(find_library('usgscsm'))"
   ]
  },
  {
   "cell_type": "code",
   "execution_count": 2,
   "metadata": {},
   "outputs": [],
   "source": [
    "prime = '/work/users/acpaquette/G03_019459_1800_XN_00N180W.IMG'\n",
    "not_prime1 = '/work/users/acpaquette/G03_019458_2123_XN_32N157W.IMG'\n",
    "not_prime2 = '/work/users/acpaquette/G03_019459_1443_XI_35S175W.IMG'\n",
    "not_prime3= '/work/users/acpaquette/P04_002746_1808_XI_00N002W.IMG'\n",
    "\n",
    "image = not_prime1\n",
    "\n",
    "# label = pvl.load(image)\n",
    "# data = {'label': pvl.dumps(label).decode()}\n",
    "\n",
    "def get_model(image):\n",
    "    label = pvl.load(image)\n",
    "    data = {'label': pvl.dumps(label).decode()}\n",
    "    \n",
    "    isd = requests.post('http://pfeffer.wr.usgs.gov/v1/pds/', json=data)\n",
    "    \n",
    "    try:\n",
    "        isd = isd.json()\n",
    "    except:\n",
    "        print(isd.status_code)\n",
    "        return None\n",
    "    \n",
    "    isd['IKCODE'] = -1\n",
    "    isd = csmapi.Isd.loads(isd)\n",
    "    plugin = csmapi.Plugin.findPlugin('USGS_ASTRO_LINE_SCANNER_PLUGIN')\n",
    "    model_name = 'USGS_ASTRO_LINE_SCANNER_SENSOR_MODEL'\n",
    "    \n",
    "    if plugin.canModelBeConstructedFromISD(isd, model_name):\n",
    "        model = plugin.constructModelFromISD(isd, model_name)\n",
    "        \n",
    "    return model"
   ]
  },
  {
   "cell_type": "code",
   "execution_count": 9,
   "metadata": {},
   "outputs": [],
   "source": [
    "def compute_line(point1, point2):\n",
    "    slope = (point2[1] - point1[1]) / (point2[0] - point1[0])\n",
    "    b = point2[1] - (slope*point2[0])\n",
    "    \n",
    "    return slope, b"
   ]
  },
  {
   "cell_type": "code",
   "execution_count": 10,
   "metadata": {},
   "outputs": [],
   "source": [
    "def generate_latlon_footprint(camera, nnodes=5, semi_major=3396190, semi_minor=3376200, n_points = 20):\n",
    "    ecef = pyproj.Proj(proj='geocent', a=semi_major, b=semi_minor)\n",
    "    lla = pyproj.Proj(proj='latlon', a=semi_major, b=semi_minor)\n",
    "\n",
    "    isize = camera.getImageSize()\n",
    "    x = np.linspace(0, isize.samp, n_points)\n",
    "    y = np.linspace(0, isize.line, n_points)\n",
    "    boundary = [(i,0.) for i in x] + [(isize.samp, i) for i in y[1:]] +\\\n",
    "               [(i, isize.line) for i in x[::-1][1:]] + [(0.,i) for i in y[::-1][1:]]\n",
    "    ring = ogr.Geometry(ogr.wkbLinearRing)\n",
    "    wrap_ring = ogr.Geometry(ogr.wkbLinearRing)\n",
    "    poly = ogr.Geometry(ogr.wkbPolygon)\n",
    "    \n",
    "    ll_coords = []\n",
    "    \n",
    "    previous_point = None\n",
    "    \n",
    "    for i in boundary:\n",
    "        ipt = csmapi.ImageCoord(*i)\n",
    "        gnd = camera.imageToGround(ipt, 0)\n",
    "        lon, lat, alt = pyproj.transform(ecef, lla, gnd.x, gnd.y, gnd.z)\n",
    "        \n",
    "        ll_coords.append([(lon + 180) % 360, lat])\n",
    "\n",
    "    current_ring = ring\n",
    "    switch_point = None\n",
    "\n",
    "    for coord in ll_coords:\n",
    "        \n",
    "        if previous_point:\n",
    "            coord_diff = previous_point[0] - coord[0]\n",
    "            \n",
    "            if coord_diff > 0 and np.isclose(previous_point[0], 360, rtol = 1e-03) and \\\n",
    "                                  np.isclose(coord[0], 0, atol=1e0, rtol=1e-01):\n",
    "                slope, b = compute_line(previous_point, coord)\n",
    "                current_ring.AddPoint(360 - 180, (slope*360 + b))\n",
    "                current_ring = wrap_ring\n",
    "                switch_point = 0 - 180, (slope*0 + b)\n",
    "                current_ring.AddPoint(*switch_point)\n",
    "                \n",
    "            elif coord_diff < 0 and np.isclose(previous_point[0], 0, atol=1e0, rtol=1e-01) and \\\n",
    "                                    np.isclose(coord[0], 360, rtol = 1e-03):\n",
    "                slope, b = compute_line(previous_point, coord)\n",
    "                current_ring.AddPoint(0 - 180, (slope*0 + b))\n",
    "                current_ring.AddPoint(*switch_point)\n",
    "                current_ring = ring\n",
    "                current_ring.AddPoint(360 - 180, (slope*360 + b))\n",
    "        \n",
    "        lat, lon = coord\n",
    "        current_ring.AddPoint(lat - 180, lon)\n",
    "        previous_point = coord\n",
    "    \n",
    "    poly.AddGeometry(ring)\n",
    "    poly.AddGeometry(wrap_ring)\n",
    "    return poly"
   ]
  },
  {
   "cell_type": "code",
   "execution_count": 25,
   "metadata": {},
   "outputs": [],
   "source": [
    "mock_model = Mock(spec=csmapi.RasterGM)\n",
    "\n",
    "mock_iv = Mock(spec=csmapi.ImageVector)\n",
    "mock_iv.samp = 10\n",
    "mock_iv.line = 10\n",
    "\n",
    "def create_ecef_coord(imageVector, z):\n",
    "    ecef_mock = Mock(spec=csmapi.EcefCoord)\n",
    "    \n",
    "    ecef_mock.x = imageVector.samp\n",
    "    ecef_mock.y = imageVector.line\n",
    "    ecef_mock.z = z\n",
    "    \n",
    "    return ecef_mock\n",
    "    \n",
    "\n",
    "mock_model.getImageSize = lambda : mock_iv\n",
    "mock_model.imageToGround = lambda imageVector, z: create_ecef_coord(imageVector, z)\n",
    "\n",
    "size = 11\n",
    "\n",
    "x = np.linspace(-180, -179, math.floor(size/2))\n",
    "x = np.concatenate([np.linspace(179, 180, math.ceil(size/2)), x])\n",
    "x = np.linspace(170, 172, size)\n",
    "y = np.linspace(1, 0, size)\n",
    "\n",
    "lat_lon_boundary = [(i,y[0]) for i in x] + [(x[-1], i) for i in y[1:]] + [(i, y[-1]) for i in x[::-1][1:]] + [(x[0],i) for i in y[::-1][1:]]\n",
    "\n",
    "x = np.linspace(0, 10, size)\n",
    "y = np.linspace(0, 10, size)\n",
    "\n",
    "x_y_boundary = [(i,y[0]) for i in x] + [(x[-1], i) for i in y[1:]] + [(i, y[-1]) for i in x[::-1][1:]] + [(x[0],i) for i in y[::-1][1:]]\n",
    "\n",
    "@patch.object(pyproj, 'transform')\n",
    "def map_coords(arg1, arg2, x, y, z, arg3):\n",
    "    lon, lat = lat_lon_boundary[x_y_boundary.index((x, y))]\n",
    "    return lon, lat, 0"
   ]
  },
  {
   "cell_type": "code",
   "execution_count": 26,
   "metadata": {
    "scrolled": true
   },
   "outputs": [],
   "source": [
    "# model = get_model(prime)\n",
    "\n",
    "with patch.object(pyproj, 'transform', map_coords) as proj:\n",
    "    fp = generate_latlon_footprint(mock_model, n_points=11, semi_major=10, semi_minor=10)"
   ]
  },
  {
   "cell_type": "code",
   "execution_count": 27,
   "metadata": {},
   "outputs": [
    {
     "data": {
      "image/png": "[encoded data removed]",
      "text/plain": [
       "<Figure size 432x288 with 1 Axes>"
      ]
     },
     "metadata": {},
     "output_type": "display_data"
    }
   ],
   "source": [
    "for i in range(fp.GetGeometryCount()):\n",
    "    latlon_coords = fp.GetGeometryRef(i).GetPoints()\n",
    "    \n",
    "    if latlon_coords:\n",
    "        x = []\n",
    "        y = []\n",
    "\n",
    "        for point in latlon_coords:\n",
    "            x.append(point[0])\n",
    "            y.append(point[1])\n",
    "            \n",
    "        plt.figure(i)\n",
    "        plt.plot(x, y, marker = \"o\")\n",
    "\n",
    "        plt.show()"
   ]
  },
  {
   "cell_type": "code",
   "execution_count": null,
   "metadata": {},
   "outputs": [],
   "source": []
  }
 ],
 "metadata": {
  "kernelspec": {
   "display_name": "Python 3",
   "language": "python",
   "name": "python3"
  },
  "language_info": {
   "codemirror_mode": {
    "name": "ipython",
    "version": 3
   },
   "file_extension": ".py",
   "mimetype": "text/x-python",
   "name": "python",
   "nbconvert_exporter": "python",
   "pygments_lexer": "ipython3",
   "version": "3.6.5"
  }
 },
 "nbformat": 4,
 "nbformat_minor": 2
}
